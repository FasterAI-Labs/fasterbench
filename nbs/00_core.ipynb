{
 "cells": [
  {
   "cell_type": "markdown",
   "metadata": {},
   "source": [
    "# core\n",
    "\n",
    "> Core modules for benchmarking"
   ]
  },
  {
   "cell_type": "code",
   "execution_count": null,
   "metadata": {},
   "outputs": [],
   "source": [
    "#| default_exp core"
   ]
  },
  {
   "cell_type": "code",
   "execution_count": null,
   "metadata": {},
   "outputs": [],
   "source": [
    "#| export\n",
    "import contextlib, warnings\n",
    "import torch"
   ]
  },
  {
   "cell_type": "code",
   "execution_count": null,
   "metadata": {},
   "outputs": [],
   "source": [
    "#| export\n",
    "def _bytes_to_mib(n: int) -> float:\n",
    "    \"\"\"Helper to convert bytes → MiB (base‑2)\"\"\"\n",
    "    return n / 1024 ** 2\n",
    "\n",
    "#| export\n",
    "@contextlib.contextmanager\n",
    "def _device_ctx(dev: str | torch.device):\n",
    "    dev = torch.device(dev)\n",
    "    if dev.type == \"cuda\" and not torch.cuda.is_available():\n",
    "        warnings.warn(\"CUDA requested but not available – falling back to CPU\")\n",
    "        dev = torch.device(\"cpu\")\n",
    "    yield dev\n",
    "\n",
    "#| export\n",
    "def _sync(dev: torch.device):\n",
    "    if dev.type == \"cuda\":\n",
    "        torch.cuda.synchronize(dev)"
   ]
  },
  {
   "cell_type": "code",
   "execution_count": null,
   "metadata": {},
   "outputs": [],
   "source": [
    "import nbdev; nbdev.nbdev_export()"
   ]
  },
  {
   "cell_type": "code",
   "execution_count": null,
   "metadata": {},
   "outputs": [],
   "source": []
  }
 ],
 "metadata": {},
 "nbformat": 4,
 "nbformat_minor": 2
}
