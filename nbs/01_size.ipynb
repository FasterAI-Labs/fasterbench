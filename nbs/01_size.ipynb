{
 "cells": [
  {
   "cell_type": "markdown",
   "metadata": {},
   "source": [
    "# size\n",
    "\n",
    "> Size modules for benchmarking"
   ]
  },
  {
   "cell_type": "code",
   "execution_count": null,
   "metadata": {},
   "outputs": [],
   "source": [
    "#| default_exp size"
   ]
  },
  {
   "cell_type": "code",
   "execution_count": null,
   "metadata": {},
   "outputs": [],
   "source": [
    "#| export\n",
    "from fasterbench.core import _bytes_to_mib\n",
    "import torch\n",
    "import io\n",
    "from dataclasses import dataclass, asdict\n",
    "from typing import Any, Dict, Iterable, List, Mapping, Sequence, Tuple, Union"
   ]
  },
  {
   "cell_type": "code",
   "execution_count": null,
   "metadata": {},
   "outputs": [],
   "source": [
    "#| export\n",
    "def get_model_size(model: torch.nn.Module) -> int:\n",
    "    \"\"\"Return the *on‑disk* size (in **bytes**) of the serialised *model*.\"\"\"\n",
    "    buf = io.BytesIO()\n",
    "    try:\n",
    "        model.save(buf)\n",
    "    except Exception:\n",
    "        torch.save(model.state_dict(), buf)\n",
    "    return buf.getbuffer().nbytes\n",
    "\n",
    "#| export\n",
    "def get_num_parameters(model: torch.nn.Module, trainable_only: bool = True) -> int:\n",
    "    \"\"\"Count the number of (optionally trainable) parameters.\"\"\"\n",
    "    if trainable_only:\n",
    "        return sum(p.numel() for p in model.parameters() if p.requires_grad)\n",
    "    return sum(p.numel() for p in model.parameters())\n",
    "\n",
    "#| export\n",
    "@dataclass(slots=True)\n",
    "class SizeMetrics:\n",
    "    disk_bytes: int\n",
    "    size_mib: float\n",
    "    num_params: int\n",
    "\n",
    "    def as_dict(self) -> Dict[str, float]:\n",
    "        return asdict(self)\n",
    "\n",
    "#| export\n",
    "def compute_size(model: torch.nn.Module) -> SizeMetrics:\n",
    "    \"\"\"High‑level helper that returns a **SizeMetrics** instance.\"\"\"\n",
    "    disk = get_model_size(model)\n",
    "    params = get_num_parameters(model)\n",
    "    return SizeMetrics(disk_bytes=disk, size_mib=_bytes_to_mib(disk), num_params=params)"
   ]
  },
  {
   "cell_type": "code",
   "execution_count": null,
   "metadata": {},
   "outputs": [],
   "source": []
  }
 ],
 "metadata": {},
 "nbformat": 4,
 "nbformat_minor": 2
}
