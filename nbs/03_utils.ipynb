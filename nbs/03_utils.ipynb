{
 "cells": [
  {
   "cell_type": "markdown",
   "id": "eb7b0e2e-f1e7-4b51-b790-d854ae073776",
   "metadata": {},
   "source": [
    "# utils\n",
    "\n",
    "> Utility functions"
   ]
  },
  {
   "cell_type": "code",
   "execution_count": null,
   "id": "1eed354c-e607-4645-b67f-783a8f18d060",
   "metadata": {},
   "outputs": [],
   "source": [
    "#| default_exp utils"
   ]
  },
  {
   "cell_type": "code",
   "execution_count": null,
   "id": "436e19d0-bb2b-47fd-8499-f38d8ac96e56",
   "metadata": {},
   "outputs": [],
   "source": [
    "#| export\n",
    "def parse_metric_value(value_str):\n",
    "    \"\"\"Convert string values with units (M, G) to float\"\"\"\n",
    "    if isinstance(value_str, (int, float)):\n",
    "        return float(value_str)\n",
    "    \n",
    "    value_str = str(value_str)\n",
    "    if 'G' in value_str:\n",
    "        return float(value_str.replace('G', '')) * 1000  # Convert G to M\n",
    "    elif 'M' in value_str:\n",
    "        return float(value_str.replace('M', ''))  # Keep in M\n",
    "    elif 'K' in value_str:\n",
    "        return float(value_str.replace('K', '')) / 1000  # Convert K to M\n",
    "    else:\n",
    "        return float(value_str)"
   ]
  }
 ],
 "metadata": {
  "kernelspec": {
   "display_name": "python3",
   "language": "python",
   "name": "python3"
  }
 },
 "nbformat": 4,
 "nbformat_minor": 5
}
